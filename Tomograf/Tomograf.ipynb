{
  "nbformat": 4,
  "nbformat_minor": 0,
  "metadata": {
    "colab": {
      "name": "Tomograf.ipynb",
      "provenance": [],
      "collapsed_sections": []
    },
    "kernelspec": {
      "name": "python3",
      "display_name": "Python 3"
    },
    "language_info": {
      "name": "python"
    },
    "widgets": {
      "application/vnd.jupyter.widget-state+json": {
        "32ff18da253a4764add2eb032043db60": {
          "model_module": "@jupyter-widgets/controls",
          "model_name": "VBoxModel",
          "model_module_version": "1.5.0",
          "state": {
            "_dom_classes": [
              "widget-interact"
            ],
            "_model_module": "@jupyter-widgets/controls",
            "_model_module_version": "1.5.0",
            "_model_name": "VBoxModel",
            "_view_count": null,
            "_view_module": "@jupyter-widgets/controls",
            "_view_module_version": "1.5.0",
            "_view_name": "VBoxView",
            "box_style": "",
            "children": [
              "IPY_MODEL_aafcb31fecf446788daa5631aa301d6e",
              "IPY_MODEL_1737d827b2bf4f858892a9970dc40aed",
              "IPY_MODEL_e5051bbc269040588734fa480d18ba6d",
              "IPY_MODEL_7133c7eb5e2c4d0db761e9b0eea1f64a"
            ],
            "layout": "IPY_MODEL_74604ae4d2e64cd0a3b85792993da6af"
          }
        },
        "aafcb31fecf446788daa5631aa301d6e": {
          "model_module": "@jupyter-widgets/controls",
          "model_name": "IntSliderModel",
          "model_module_version": "1.5.0",
          "state": {
            "_dom_classes": [],
            "_model_module": "@jupyter-widgets/controls",
            "_model_module_version": "1.5.0",
            "_model_name": "IntSliderModel",
            "_view_count": null,
            "_view_module": "@jupyter-widgets/controls",
            "_view_module_version": "1.5.0",
            "_view_name": "IntSliderView",
            "continuous_update": true,
            "description": "scans",
            "description_tooltip": null,
            "disabled": false,
            "layout": "IPY_MODEL_aa78aa99516141f9b981c4d72f624c2b",
            "max": 720,
            "min": 90,
            "orientation": "horizontal",
            "readout": true,
            "readout_format": "d",
            "step": 90,
            "style": "IPY_MODEL_be03fcffb242481fab58cf63ab6ff253",
            "value": 180
          }
        },
        "1737d827b2bf4f858892a9970dc40aed": {
          "model_module": "@jupyter-widgets/controls",
          "model_name": "IntSliderModel",
          "model_module_version": "1.5.0",
          "state": {
            "_dom_classes": [],
            "_model_module": "@jupyter-widgets/controls",
            "_model_module_version": "1.5.0",
            "_model_name": "IntSliderModel",
            "_view_count": null,
            "_view_module": "@jupyter-widgets/controls",
            "_view_module_version": "1.5.0",
            "_view_name": "IntSliderView",
            "continuous_update": true,
            "description": "detectors",
            "description_tooltip": null,
            "disabled": false,
            "layout": "IPY_MODEL_3a13b939105f423fb3d0f255c70220f6",
            "max": 720,
            "min": 90,
            "orientation": "horizontal",
            "readout": true,
            "readout_format": "d",
            "step": 90,
            "style": "IPY_MODEL_df1d7efa5763424e8501f8ba7f3cbfe5",
            "value": 540
          }
        },
        "e5051bbc269040588734fa480d18ba6d": {
          "model_module": "@jupyter-widgets/controls",
          "model_name": "IntSliderModel",
          "model_module_version": "1.5.0",
          "state": {
            "_dom_classes": [],
            "_model_module": "@jupyter-widgets/controls",
            "_model_module_version": "1.5.0",
            "_model_name": "IntSliderModel",
            "_view_count": null,
            "_view_module": "@jupyter-widgets/controls",
            "_view_module_version": "1.5.0",
            "_view_name": "IntSliderView",
            "continuous_update": true,
            "description": "angle",
            "description_tooltip": null,
            "disabled": false,
            "layout": "IPY_MODEL_a8426e7e27bf406c98de55ec50066885",
            "max": 270,
            "min": 45,
            "orientation": "horizontal",
            "readout": true,
            "readout_format": "d",
            "step": 45,
            "style": "IPY_MODEL_eee3a6c082e44155814f53486236cf50",
            "value": 225
          }
        },
        "7133c7eb5e2c4d0db761e9b0eea1f64a": {
          "model_module": "@jupyter-widgets/output",
          "model_name": "OutputModel",
          "model_module_version": "1.0.0",
          "state": {
            "_dom_classes": [],
            "_model_module": "@jupyter-widgets/output",
            "_model_module_version": "1.0.0",
            "_model_name": "OutputModel",
            "_view_count": null,
            "_view_module": "@jupyter-widgets/output",
            "_view_module_version": "1.0.0",
            "_view_name": "OutputView",
            "layout": "IPY_MODEL_4721a73641034ddc9d5ea336f2f59a8f",
            "msg_id": "",
            "outputs": []
          }
        },
        "74604ae4d2e64cd0a3b85792993da6af": {
          "model_module": "@jupyter-widgets/base",
          "model_name": "LayoutModel",
          "model_module_version": "1.2.0",
          "state": {
            "_model_module": "@jupyter-widgets/base",
            "_model_module_version": "1.2.0",
            "_model_name": "LayoutModel",
            "_view_count": null,
            "_view_module": "@jupyter-widgets/base",
            "_view_module_version": "1.2.0",
            "_view_name": "LayoutView",
            "align_content": null,
            "align_items": null,
            "align_self": null,
            "border": null,
            "bottom": null,
            "display": null,
            "flex": null,
            "flex_flow": null,
            "grid_area": null,
            "grid_auto_columns": null,
            "grid_auto_flow": null,
            "grid_auto_rows": null,
            "grid_column": null,
            "grid_gap": null,
            "grid_row": null,
            "grid_template_areas": null,
            "grid_template_columns": null,
            "grid_template_rows": null,
            "height": null,
            "justify_content": null,
            "justify_items": null,
            "left": null,
            "margin": null,
            "max_height": null,
            "max_width": null,
            "min_height": null,
            "min_width": null,
            "object_fit": null,
            "object_position": null,
            "order": null,
            "overflow": null,
            "overflow_x": null,
            "overflow_y": null,
            "padding": null,
            "right": null,
            "top": null,
            "visibility": null,
            "width": null
          }
        },
        "aa78aa99516141f9b981c4d72f624c2b": {
          "model_module": "@jupyter-widgets/base",
          "model_name": "LayoutModel",
          "model_module_version": "1.2.0",
          "state": {
            "_model_module": "@jupyter-widgets/base",
            "_model_module_version": "1.2.0",
            "_model_name": "LayoutModel",
            "_view_count": null,
            "_view_module": "@jupyter-widgets/base",
            "_view_module_version": "1.2.0",
            "_view_name": "LayoutView",
            "align_content": null,
            "align_items": null,
            "align_self": null,
            "border": null,
            "bottom": null,
            "display": null,
            "flex": null,
            "flex_flow": null,
            "grid_area": null,
            "grid_auto_columns": null,
            "grid_auto_flow": null,
            "grid_auto_rows": null,
            "grid_column": null,
            "grid_gap": null,
            "grid_row": null,
            "grid_template_areas": null,
            "grid_template_columns": null,
            "grid_template_rows": null,
            "height": null,
            "justify_content": null,
            "justify_items": null,
            "left": null,
            "margin": null,
            "max_height": null,
            "max_width": null,
            "min_height": null,
            "min_width": null,
            "object_fit": null,
            "object_position": null,
            "order": null,
            "overflow": null,
            "overflow_x": null,
            "overflow_y": null,
            "padding": null,
            "right": null,
            "top": null,
            "visibility": null,
            "width": null
          }
        },
        "be03fcffb242481fab58cf63ab6ff253": {
          "model_module": "@jupyter-widgets/controls",
          "model_name": "SliderStyleModel",
          "model_module_version": "1.5.0",
          "state": {
            "_model_module": "@jupyter-widgets/controls",
            "_model_module_version": "1.5.0",
            "_model_name": "SliderStyleModel",
            "_view_count": null,
            "_view_module": "@jupyter-widgets/base",
            "_view_module_version": "1.2.0",
            "_view_name": "StyleView",
            "description_width": "",
            "handle_color": null
          }
        },
        "3a13b939105f423fb3d0f255c70220f6": {
          "model_module": "@jupyter-widgets/base",
          "model_name": "LayoutModel",
          "model_module_version": "1.2.0",
          "state": {
            "_model_module": "@jupyter-widgets/base",
            "_model_module_version": "1.2.0",
            "_model_name": "LayoutModel",
            "_view_count": null,
            "_view_module": "@jupyter-widgets/base",
            "_view_module_version": "1.2.0",
            "_view_name": "LayoutView",
            "align_content": null,
            "align_items": null,
            "align_self": null,
            "border": null,
            "bottom": null,
            "display": null,
            "flex": null,
            "flex_flow": null,
            "grid_area": null,
            "grid_auto_columns": null,
            "grid_auto_flow": null,
            "grid_auto_rows": null,
            "grid_column": null,
            "grid_gap": null,
            "grid_row": null,
            "grid_template_areas": null,
            "grid_template_columns": null,
            "grid_template_rows": null,
            "height": null,
            "justify_content": null,
            "justify_items": null,
            "left": null,
            "margin": null,
            "max_height": null,
            "max_width": null,
            "min_height": null,
            "min_width": null,
            "object_fit": null,
            "object_position": null,
            "order": null,
            "overflow": null,
            "overflow_x": null,
            "overflow_y": null,
            "padding": null,
            "right": null,
            "top": null,
            "visibility": null,
            "width": null
          }
        },
        "df1d7efa5763424e8501f8ba7f3cbfe5": {
          "model_module": "@jupyter-widgets/controls",
          "model_name": "SliderStyleModel",
          "model_module_version": "1.5.0",
          "state": {
            "_model_module": "@jupyter-widgets/controls",
            "_model_module_version": "1.5.0",
            "_model_name": "SliderStyleModel",
            "_view_count": null,
            "_view_module": "@jupyter-widgets/base",
            "_view_module_version": "1.2.0",
            "_view_name": "StyleView",
            "description_width": "",
            "handle_color": null
          }
        },
        "a8426e7e27bf406c98de55ec50066885": {
          "model_module": "@jupyter-widgets/base",
          "model_name": "LayoutModel",
          "model_module_version": "1.2.0",
          "state": {
            "_model_module": "@jupyter-widgets/base",
            "_model_module_version": "1.2.0",
            "_model_name": "LayoutModel",
            "_view_count": null,
            "_view_module": "@jupyter-widgets/base",
            "_view_module_version": "1.2.0",
            "_view_name": "LayoutView",
            "align_content": null,
            "align_items": null,
            "align_self": null,
            "border": null,
            "bottom": null,
            "display": null,
            "flex": null,
            "flex_flow": null,
            "grid_area": null,
            "grid_auto_columns": null,
            "grid_auto_flow": null,
            "grid_auto_rows": null,
            "grid_column": null,
            "grid_gap": null,
            "grid_row": null,
            "grid_template_areas": null,
            "grid_template_columns": null,
            "grid_template_rows": null,
            "height": null,
            "justify_content": null,
            "justify_items": null,
            "left": null,
            "margin": null,
            "max_height": null,
            "max_width": null,
            "min_height": null,
            "min_width": null,
            "object_fit": null,
            "object_position": null,
            "order": null,
            "overflow": null,
            "overflow_x": null,
            "overflow_y": null,
            "padding": null,
            "right": null,
            "top": null,
            "visibility": null,
            "width": null
          }
        },
        "eee3a6c082e44155814f53486236cf50": {
          "model_module": "@jupyter-widgets/controls",
          "model_name": "SliderStyleModel",
          "model_module_version": "1.5.0",
          "state": {
            "_model_module": "@jupyter-widgets/controls",
            "_model_module_version": "1.5.0",
            "_model_name": "SliderStyleModel",
            "_view_count": null,
            "_view_module": "@jupyter-widgets/base",
            "_view_module_version": "1.2.0",
            "_view_name": "StyleView",
            "description_width": "",
            "handle_color": null
          }
        },
        "4721a73641034ddc9d5ea336f2f59a8f": {
          "model_module": "@jupyter-widgets/base",
          "model_name": "LayoutModel",
          "model_module_version": "1.2.0",
          "state": {
            "_model_module": "@jupyter-widgets/base",
            "_model_module_version": "1.2.0",
            "_model_name": "LayoutModel",
            "_view_count": null,
            "_view_module": "@jupyter-widgets/base",
            "_view_module_version": "1.2.0",
            "_view_name": "LayoutView",
            "align_content": null,
            "align_items": null,
            "align_self": null,
            "border": null,
            "bottom": null,
            "display": null,
            "flex": null,
            "flex_flow": null,
            "grid_area": null,
            "grid_auto_columns": null,
            "grid_auto_flow": null,
            "grid_auto_rows": null,
            "grid_column": null,
            "grid_gap": null,
            "grid_row": null,
            "grid_template_areas": null,
            "grid_template_columns": null,
            "grid_template_rows": null,
            "height": null,
            "justify_content": null,
            "justify_items": null,
            "left": null,
            "margin": null,
            "max_height": null,
            "max_width": null,
            "min_height": null,
            "min_width": null,
            "object_fit": null,
            "object_position": null,
            "order": null,
            "overflow": null,
            "overflow_x": null,
            "overflow_y": null,
            "padding": null,
            "right": null,
            "top": null,
            "visibility": null,
            "width": null
          }
        },
        "3f5adc5b1c20422dabbe6737f929c69a": {
          "model_module": "@jupyter-widgets/controls",
          "model_name": "VBoxModel",
          "model_module_version": "1.5.0",
          "state": {
            "_dom_classes": [
              "widget-interact"
            ],
            "_model_module": "@jupyter-widgets/controls",
            "_model_module_version": "1.5.0",
            "_model_name": "VBoxModel",
            "_view_count": null,
            "_view_module": "@jupyter-widgets/controls",
            "_view_module_version": "1.5.0",
            "_view_name": "VBoxView",
            "box_style": "",
            "children": [
              "IPY_MODEL_f4e2abaa947e4e6598e3f9ef721900b2",
              "IPY_MODEL_e2ee4cb134e349dfacfe63c974cc5acc"
            ],
            "layout": "IPY_MODEL_80964f4f846e4476a9f644d449d83f5f"
          }
        },
        "f4e2abaa947e4e6598e3f9ef721900b2": {
          "model_module": "@jupyter-widgets/controls",
          "model_name": "IntSliderModel",
          "model_module_version": "1.5.0",
          "state": {
            "_dom_classes": [],
            "_model_module": "@jupyter-widgets/controls",
            "_model_module_version": "1.5.0",
            "_model_name": "IntSliderModel",
            "_view_count": null,
            "_view_module": "@jupyter-widgets/controls",
            "_view_module_version": "1.5.0",
            "_view_name": "IntSliderView",
            "continuous_update": true,
            "description": "i",
            "description_tooltip": null,
            "disabled": false,
            "layout": "IPY_MODEL_6133721c3c774c71b9985486f41cc529",
            "max": 359,
            "min": 0,
            "orientation": "horizontal",
            "readout": true,
            "readout_format": "d",
            "step": 1,
            "style": "IPY_MODEL_0f2376c9e04140e0abdfdbb2cd5b4f10",
            "value": 359
          }
        },
        "e2ee4cb134e349dfacfe63c974cc5acc": {
          "model_module": "@jupyter-widgets/output",
          "model_name": "OutputModel",
          "model_module_version": "1.0.0",
          "state": {
            "_dom_classes": [],
            "_model_module": "@jupyter-widgets/output",
            "_model_module_version": "1.0.0",
            "_model_name": "OutputModel",
            "_view_count": null,
            "_view_module": "@jupyter-widgets/output",
            "_view_module_version": "1.0.0",
            "_view_name": "OutputView",
            "layout": "IPY_MODEL_324df4bebcae4b808446309b65ecebd5",
            "msg_id": "",
            "outputs": [
              {
                "output_type": "display_data",
                "data": {
                  "text/plain": "<Figure size 432x288 with 1 Axes>",
                  "image/png": "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\n"
                },
                "metadata": {
                  "needs_background": "light"
                }
              }
            ]
          }
        },
        "80964f4f846e4476a9f644d449d83f5f": {
          "model_module": "@jupyter-widgets/base",
          "model_name": "LayoutModel",
          "model_module_version": "1.2.0",
          "state": {
            "_model_module": "@jupyter-widgets/base",
            "_model_module_version": "1.2.0",
            "_model_name": "LayoutModel",
            "_view_count": null,
            "_view_module": "@jupyter-widgets/base",
            "_view_module_version": "1.2.0",
            "_view_name": "LayoutView",
            "align_content": null,
            "align_items": null,
            "align_self": null,
            "border": null,
            "bottom": null,
            "display": null,
            "flex": null,
            "flex_flow": null,
            "grid_area": null,
            "grid_auto_columns": null,
            "grid_auto_flow": null,
            "grid_auto_rows": null,
            "grid_column": null,
            "grid_gap": null,
            "grid_row": null,
            "grid_template_areas": null,
            "grid_template_columns": null,
            "grid_template_rows": null,
            "height": null,
            "justify_content": null,
            "justify_items": null,
            "left": null,
            "margin": null,
            "max_height": null,
            "max_width": null,
            "min_height": null,
            "min_width": null,
            "object_fit": null,
            "object_position": null,
            "order": null,
            "overflow": null,
            "overflow_x": null,
            "overflow_y": null,
            "padding": null,
            "right": null,
            "top": null,
            "visibility": null,
            "width": null
          }
        },
        "6133721c3c774c71b9985486f41cc529": {
          "model_module": "@jupyter-widgets/base",
          "model_name": "LayoutModel",
          "model_module_version": "1.2.0",
          "state": {
            "_model_module": "@jupyter-widgets/base",
            "_model_module_version": "1.2.0",
            "_model_name": "LayoutModel",
            "_view_count": null,
            "_view_module": "@jupyter-widgets/base",
            "_view_module_version": "1.2.0",
            "_view_name": "LayoutView",
            "align_content": null,
            "align_items": null,
            "align_self": null,
            "border": null,
            "bottom": null,
            "display": null,
            "flex": null,
            "flex_flow": null,
            "grid_area": null,
            "grid_auto_columns": null,
            "grid_auto_flow": null,
            "grid_auto_rows": null,
            "grid_column": null,
            "grid_gap": null,
            "grid_row": null,
            "grid_template_areas": null,
            "grid_template_columns": null,
            "grid_template_rows": null,
            "height": null,
            "justify_content": null,
            "justify_items": null,
            "left": null,
            "margin": null,
            "max_height": null,
            "max_width": null,
            "min_height": null,
            "min_width": null,
            "object_fit": null,
            "object_position": null,
            "order": null,
            "overflow": null,
            "overflow_x": null,
            "overflow_y": null,
            "padding": null,
            "right": null,
            "top": null,
            "visibility": null,
            "width": null
          }
        },
        "0f2376c9e04140e0abdfdbb2cd5b4f10": {
          "model_module": "@jupyter-widgets/controls",
          "model_name": "SliderStyleModel",
          "model_module_version": "1.5.0",
          "state": {
            "_model_module": "@jupyter-widgets/controls",
            "_model_module_version": "1.5.0",
            "_model_name": "SliderStyleModel",
            "_view_count": null,
            "_view_module": "@jupyter-widgets/base",
            "_view_module_version": "1.2.0",
            "_view_name": "StyleView",
            "description_width": "",
            "handle_color": null
          }
        },
        "324df4bebcae4b808446309b65ecebd5": {
          "model_module": "@jupyter-widgets/base",
          "model_name": "LayoutModel",
          "model_module_version": "1.2.0",
          "state": {
            "_model_module": "@jupyter-widgets/base",
            "_model_module_version": "1.2.0",
            "_model_name": "LayoutModel",
            "_view_count": null,
            "_view_module": "@jupyter-widgets/base",
            "_view_module_version": "1.2.0",
            "_view_name": "LayoutView",
            "align_content": null,
            "align_items": null,
            "align_self": null,
            "border": null,
            "bottom": null,
            "display": null,
            "flex": null,
            "flex_flow": null,
            "grid_area": null,
            "grid_auto_columns": null,
            "grid_auto_flow": null,
            "grid_auto_rows": null,
            "grid_column": null,
            "grid_gap": null,
            "grid_row": null,
            "grid_template_areas": null,
            "grid_template_columns": null,
            "grid_template_rows": null,
            "height": null,
            "justify_content": null,
            "justify_items": null,
            "left": null,
            "margin": null,
            "max_height": null,
            "max_width": null,
            "min_height": null,
            "min_width": null,
            "object_fit": null,
            "object_position": null,
            "order": null,
            "overflow": null,
            "overflow_x": null,
            "overflow_y": null,
            "padding": null,
            "right": null,
            "top": null,
            "visibility": null,
            "width": null
          }
        },
        "ce3279c0a8d24ffc9712e2efa6f5d187": {
          "model_module": "@jupyter-widgets/controls",
          "model_name": "VBoxModel",
          "model_module_version": "1.5.0",
          "state": {
            "_dom_classes": [
              "widget-interact"
            ],
            "_model_module": "@jupyter-widgets/controls",
            "_model_module_version": "1.5.0",
            "_model_name": "VBoxModel",
            "_view_count": null,
            "_view_module": "@jupyter-widgets/controls",
            "_view_module_version": "1.5.0",
            "_view_name": "VBoxView",
            "box_style": "",
            "children": [
              "IPY_MODEL_e52b707f5bd942afba5fb90f490e205d",
              "IPY_MODEL_d45e23ccac1b4509bd972b23cd5d692d"
            ],
            "layout": "IPY_MODEL_3932c615808444ebacc354461ff389fb"
          }
        },
        "e52b707f5bd942afba5fb90f490e205d": {
          "model_module": "@jupyter-widgets/controls",
          "model_name": "IntSliderModel",
          "model_module_version": "1.5.0",
          "state": {
            "_dom_classes": [],
            "_model_module": "@jupyter-widgets/controls",
            "_model_module_version": "1.5.0",
            "_model_name": "IntSliderModel",
            "_view_count": null,
            "_view_module": "@jupyter-widgets/controls",
            "_view_module_version": "1.5.0",
            "_view_name": "IntSliderView",
            "continuous_update": true,
            "description": "i",
            "description_tooltip": null,
            "disabled": false,
            "layout": "IPY_MODEL_32dc0f10b3ea4de7819de9e08357b801",
            "max": 360,
            "min": 0,
            "orientation": "horizontal",
            "readout": true,
            "readout_format": "d",
            "step": 1,
            "style": "IPY_MODEL_6bd6f92c521449f39cfaaf35b002b6ad",
            "value": 360
          }
        },
        "d45e23ccac1b4509bd972b23cd5d692d": {
          "model_module": "@jupyter-widgets/output",
          "model_name": "OutputModel",
          "model_module_version": "1.0.0",
          "state": {
            "_dom_classes": [],
            "_model_module": "@jupyter-widgets/output",
            "_model_module_version": "1.0.0",
            "_model_name": "OutputModel",
            "_view_count": null,
            "_view_module": "@jupyter-widgets/output",
            "_view_module_version": "1.0.0",
            "_view_name": "OutputView",
            "layout": "IPY_MODEL_c40203bb6e6140e7ad7e523d4cc84691",
            "msg_id": "",
            "outputs": [
              {
                "output_type": "display_data",
                "data": {
                  "text/plain": "<Figure size 432x288 with 1 Axes>",
                  "image/png": "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\n"
                },
                "metadata": {
                  "needs_background": "light"
                }
              }
            ]
          }
        },
        "3932c615808444ebacc354461ff389fb": {
          "model_module": "@jupyter-widgets/base",
          "model_name": "LayoutModel",
          "model_module_version": "1.2.0",
          "state": {
            "_model_module": "@jupyter-widgets/base",
            "_model_module_version": "1.2.0",
            "_model_name": "LayoutModel",
            "_view_count": null,
            "_view_module": "@jupyter-widgets/base",
            "_view_module_version": "1.2.0",
            "_view_name": "LayoutView",
            "align_content": null,
            "align_items": null,
            "align_self": null,
            "border": null,
            "bottom": null,
            "display": null,
            "flex": null,
            "flex_flow": null,
            "grid_area": null,
            "grid_auto_columns": null,
            "grid_auto_flow": null,
            "grid_auto_rows": null,
            "grid_column": null,
            "grid_gap": null,
            "grid_row": null,
            "grid_template_areas": null,
            "grid_template_columns": null,
            "grid_template_rows": null,
            "height": null,
            "justify_content": null,
            "justify_items": null,
            "left": null,
            "margin": null,
            "max_height": null,
            "max_width": null,
            "min_height": null,
            "min_width": null,
            "object_fit": null,
            "object_position": null,
            "order": null,
            "overflow": null,
            "overflow_x": null,
            "overflow_y": null,
            "padding": null,
            "right": null,
            "top": null,
            "visibility": null,
            "width": null
          }
        },
        "32dc0f10b3ea4de7819de9e08357b801": {
          "model_module": "@jupyter-widgets/base",
          "model_name": "LayoutModel",
          "model_module_version": "1.2.0",
          "state": {
            "_model_module": "@jupyter-widgets/base",
            "_model_module_version": "1.2.0",
            "_model_name": "LayoutModel",
            "_view_count": null,
            "_view_module": "@jupyter-widgets/base",
            "_view_module_version": "1.2.0",
            "_view_name": "LayoutView",
            "align_content": null,
            "align_items": null,
            "align_self": null,
            "border": null,
            "bottom": null,
            "display": null,
            "flex": null,
            "flex_flow": null,
            "grid_area": null,
            "grid_auto_columns": null,
            "grid_auto_flow": null,
            "grid_auto_rows": null,
            "grid_column": null,
            "grid_gap": null,
            "grid_row": null,
            "grid_template_areas": null,
            "grid_template_columns": null,
            "grid_template_rows": null,
            "height": null,
            "justify_content": null,
            "justify_items": null,
            "left": null,
            "margin": null,
            "max_height": null,
            "max_width": null,
            "min_height": null,
            "min_width": null,
            "object_fit": null,
            "object_position": null,
            "order": null,
            "overflow": null,
            "overflow_x": null,
            "overflow_y": null,
            "padding": null,
            "right": null,
            "top": null,
            "visibility": null,
            "width": null
          }
        },
        "6bd6f92c521449f39cfaaf35b002b6ad": {
          "model_module": "@jupyter-widgets/controls",
          "model_name": "SliderStyleModel",
          "model_module_version": "1.5.0",
          "state": {
            "_model_module": "@jupyter-widgets/controls",
            "_model_module_version": "1.5.0",
            "_model_name": "SliderStyleModel",
            "_view_count": null,
            "_view_module": "@jupyter-widgets/base",
            "_view_module_version": "1.2.0",
            "_view_name": "StyleView",
            "description_width": "",
            "handle_color": null
          }
        },
        "c40203bb6e6140e7ad7e523d4cc84691": {
          "model_module": "@jupyter-widgets/base",
          "model_name": "LayoutModel",
          "model_module_version": "1.2.0",
          "state": {
            "_model_module": "@jupyter-widgets/base",
            "_model_module_version": "1.2.0",
            "_model_name": "LayoutModel",
            "_view_count": null,
            "_view_module": "@jupyter-widgets/base",
            "_view_module_version": "1.2.0",
            "_view_name": "LayoutView",
            "align_content": null,
            "align_items": null,
            "align_self": null,
            "border": null,
            "bottom": null,
            "display": null,
            "flex": null,
            "flex_flow": null,
            "grid_area": null,
            "grid_auto_columns": null,
            "grid_auto_flow": null,
            "grid_auto_rows": null,
            "grid_column": null,
            "grid_gap": null,
            "grid_row": null,
            "grid_template_areas": null,
            "grid_template_columns": null,
            "grid_template_rows": null,
            "height": null,
            "justify_content": null,
            "justify_items": null,
            "left": null,
            "margin": null,
            "max_height": null,
            "max_width": null,
            "min_height": null,
            "min_width": null,
            "object_fit": null,
            "object_position": null,
            "order": null,
            "overflow": null,
            "overflow_x": null,
            "overflow_y": null,
            "padding": null,
            "right": null,
            "top": null,
            "visibility": null,
            "width": null
          }
        }
      }
    }
  },
  "cells": [
    {
      "cell_type": "markdown",
      "source": [
        "#Informatyka w medycynie\n",
        "\n",
        "##**Zadanie 1 - Tomograf**\n",
        "\n",
        "Dominik Pawłowski 145289 \\\\\n",
        "Bartłomiej Kowalewski 145204"
      ],
      "metadata": {
        "id": "SxZiqn7PLyNU"
      }
    },
    {
      "cell_type": "code",
      "execution_count": null,
      "metadata": {
        "id": "pp8QnS0IK5Du"
      },
      "outputs": [],
      "source": [
        "import numpy as np\n",
        "import cv2\n",
        "import matplotlib.pyplot as plt\n",
        "import ipywidgets as widgets\n",
        "import IPython.display\n",
        "import pydicom as pd\n",
        "from pydicom.dataset import FileDataset, FileMetaDataset, validate_file_meta\n",
        "from pydicom.uid import UID, generate_uid\n",
        "from ipywidgets import interact"
      ]
    },
    {
      "cell_type": "code",
      "source": [
        "def circle_coords(angle_shift, angle_range, count, radius=1, center=(0, 0)):\n",
        "    angles = np.linspace(0, angle_range, count) + angle_shift\n",
        "    cx, cy = center\n",
        "    x = radius * np.cos(angles) - cx\n",
        "    y = radius * np.sin(angles) - cy\n",
        "    points = np.array(list(zip(x, y)))\n",
        "    return np.floor(points).astype(int)\n",
        "\n",
        "def detector_coords(alpha, angle_range, count, radius=1, center=(0,0)):\n",
        "    return circle_coords(np.radians(alpha - angle_range/2), np.radians(angle_range), count, radius, center)\n",
        "\n",
        "def emitter_coords(alpha, angle_range, count, radius=1, center=(0,0)):\n",
        "    return circle_coords(np.radians(alpha - angle_range/2 + 180), np.radians(angle_range), count, radius, center)[::-1]"
      ],
      "metadata": {
        "id": "aQAUGvMJYL1D"
      },
      "execution_count": null,
      "outputs": []
    },
    {
      "cell_type": "code",
      "source": [
        "def bresenham(x0, y0, x1, y1):\n",
        "    if abs(y1 - y0) > abs(x1 - x0):\n",
        "        swapped = True\n",
        "        x0, y0, x1, y1 = y0, x0, y1, x1\n",
        "    else:\n",
        "        swapped = False\n",
        "    m = (y1 - y0) / (x1 - x0) if x1 - x0 != 0 else 1\n",
        "    q = y0 - m * x0\n",
        "    if x0 < x1:\n",
        "        xs = np.arange(np.floor(x0), np.ceil(x1) + 1, +1, dtype=int)\n",
        "    else:\n",
        "        xs = np.arange(np.ceil(x0), np.floor(x1) - 1, -1, dtype=int)\n",
        "    ys = np.round(m * xs + q).astype(int)\n",
        "    if swapped:\n",
        "        xs, ys = ys, xs\n",
        "    return np.array([xs, ys])"
      ],
      "metadata": {
        "id": "FuV83xGfTHjV"
      },
      "execution_count": null,
      "outputs": []
    },
    {
      "cell_type": "code",
      "source": [
        "print(bresenham(2,2,-1,-1))"
      ],
      "metadata": {
        "colab": {
          "base_uri": "https://localhost:8080/"
        },
        "id": "v91fRqZtof63",
        "outputId": "54ee8630-769d-4f7f-ee8d-d7b665a09f28"
      },
      "execution_count": null,
      "outputs": [
        {
          "output_type": "stream",
          "name": "stdout",
          "text": [
            "[[ 2  1  0 -1]\n",
            " [ 2  1  0 -1]]\n"
          ]
        }
      ]
    },
    {
      "cell_type": "code",
      "source": [
        "def draw_lines(emitters, detectors):\n",
        "  lines = list()\n",
        "  for (x0, y0), (x1, y1) in zip(emitters, detectors):\n",
        "    lines.append(np.array(bresenham(x0, y0, x1, y1)))\n",
        "  return lines"
      ],
      "metadata": {
        "id": "d4qwreOXYHa9"
      },
      "execution_count": null,
      "outputs": []
    },
    {
      "cell_type": "code",
      "source": [
        "number_of_scans = 360\n",
        "number_of_detectors = 700\n",
        "angle_range = 270"
      ],
      "metadata": {
        "id": "f-YhSH2jXl_4"
      },
      "execution_count": null,
      "outputs": []
    },
    {
      "cell_type": "code",
      "source": [
        "def set_params(scans, detectors, angle):\n",
        "  number_of_scans = scans\n",
        "  number_of_detectors = detectors\n",
        "  angle_range = angle"
      ],
      "metadata": {
        "id": "7SoiG2LFmgcJ"
      },
      "execution_count": null,
      "outputs": []
    },
    {
      "cell_type": "code",
      "source": [
        "interact(set_params, scans=(90,720,90), detectors=(90,720,90), angle=(45,270,45));"
      ],
      "metadata": {
        "colab": {
          "base_uri": "https://localhost:8080/",
          "height": 113,
          "referenced_widgets": [
            "32ff18da253a4764add2eb032043db60",
            "aafcb31fecf446788daa5631aa301d6e",
            "1737d827b2bf4f858892a9970dc40aed",
            "e5051bbc269040588734fa480d18ba6d",
            "7133c7eb5e2c4d0db761e9b0eea1f64a",
            "74604ae4d2e64cd0a3b85792993da6af",
            "aa78aa99516141f9b981c4d72f624c2b",
            "be03fcffb242481fab58cf63ab6ff253",
            "3a13b939105f423fb3d0f255c70220f6",
            "df1d7efa5763424e8501f8ba7f3cbfe5",
            "a8426e7e27bf406c98de55ec50066885",
            "eee3a6c082e44155814f53486236cf50",
            "4721a73641034ddc9d5ea336f2f59a8f"
          ]
        },
        "id": "mN4K1Bh5nmC4",
        "outputId": "a52cba86-25e9-4715-d381-ae9befe665cb"
      },
      "execution_count": null,
      "outputs": [
        {
          "output_type": "display_data",
          "data": {
            "text/plain": [
              "interactive(children=(IntSlider(value=360, description='scans', max=720, min=90, step=90), IntSlider(value=360…"
            ],
            "application/vnd.jupyter.widget-view+json": {
              "version_major": 2,
              "version_minor": 0,
              "model_id": "32ff18da253a4764add2eb032043db60"
            }
          },
          "metadata": {}
        }
      ]
    },
    {
      "cell_type": "code",
      "source": [
        "image = cv2.imread('Kwadraty2.jpg', cv2.IMREAD_GRAYSCALE)\n",
        "plt.imshow(image, cmap='gray');"
      ],
      "metadata": {
        "id": "Wt_5QddCPKZc",
        "colab": {
          "base_uri": "https://localhost:8080/",
          "height": 269
        },
        "outputId": "5723048c-2aaa-40be-a3dc-66e61664aa62"
      },
      "execution_count": null,
      "outputs": [
        {
          "output_type": "display_data",
          "data": {
            "text/plain": [
              "<Figure size 432x288 with 1 Axes>"
            ],
            "image/png": "[encoded data removed]"
          },
          "metadata": {
            "needs_background": "light"
          }
        }
      ]
    },
    {
      "cell_type": "code",
      "source": [
        "def image_pad(array):\n",
        "    w, h = array.shape\n",
        "    side = int(np.ceil((w**2 + h**2)**0.5))\n",
        "    shape = (side, side)\n",
        "    pad = (np.array(shape) - np.array(array.shape)) / 2\n",
        "    pad = np.array([np.floor(pad), np.ceil(pad)]).T.astype(int)\n",
        "    return np.pad(array, pad)\n",
        "\n",
        "def rescale(array):\n",
        "    res = array.astype('float32')\n",
        "    res -= np.min(res)\n",
        "    res /= np.max(res)\n",
        "    return res\n",
        "\n",
        "def unpad(img, height, width):\n",
        "    y,x = img.shape\n",
        "    startx = x//2-(width//2)\n",
        "    starty = y//2-(height//2)    \n",
        "    return img[starty:starty+height,startx:startx+width]"
      ],
      "metadata": {
        "id": "S-4sdOvDGQ7B"
      },
      "execution_count": null,
      "outputs": []
    },
    {
      "cell_type": "code",
      "source": [
        "def radon(detector_count, angle_range, image, radius, center, alpha):\n",
        "    emitters = emitter_coords(alpha, angle_range, detector_count, radius, center)\n",
        "    detectors = detector_coords(alpha, angle_range, detector_count, radius, center)\n",
        "    lines = draw_lines(emitters, detectors)\n",
        "    result = rescale(np.array([np.sum(image[tuple(line)]) for line in lines]))\n",
        "    return result\n",
        "\n",
        "def radon_all(image, scan_count, detector_count, angle_range):\n",
        "    image = image_pad(image)\n",
        "    center = np.floor(np.array(image.shape) / 2).astype(int)\n",
        "    width = height = image.shape[0]\n",
        "    radius = width // 2\n",
        "    alphas = np.linspace(0, 180, scan_count)\n",
        "    results = np.zeros((scan_count, detector_count))\n",
        "    \n",
        "    plt.figure()\n",
        "    for i, alpha in enumerate(alphas):\n",
        "        results[i] = radon(detector_count, angle_range, image, radius, center, alpha)\n",
        "        sins.append(np.copy(np.swapaxes(results,0,1)))\n",
        "        plt.imshow(np.swapaxes(results,0,1), cmap=plt.cm.Greys_r)\n",
        "        plt.show()\n",
        "        IPython.display.clear_output(wait=True)\n",
        "        \n",
        "    return np.swapaxes(results,0,1)"
      ],
      "metadata": {
        "id": "XNZgJchFpT1D"
      },
      "execution_count": null,
      "outputs": []
    },
    {
      "cell_type": "code",
      "source": [
        "sins = []\n",
        "sinogram = radon_all(image, number_of_scans, number_of_detectors, angle_range)"
      ],
      "metadata": {
        "colab": {
          "base_uri": "https://localhost:8080/",
          "height": 269
        },
        "id": "_vfYKrWWqiyy",
        "outputId": "16eed9e2-0cb9-4bb5-eb54-6c1598402c87"
      },
      "execution_count": null,
      "outputs": [
        {
          "output_type": "display_data",
          "data": {
            "text/plain": [
              "<Figure size 432x288 with 1 Axes>"
            ],
            "image/png": "[encoded data removed]"
          },
          "metadata": {
            "needs_background": "light"
          }
        }
      ]
    },
    {
      "cell_type": "code",
      "source": [
        "def plot_sinogram(i):\n",
        "  plt.imshow(sins[i], cmap='gray');"
      ],
      "metadata": {
        "id": "DsfT6l_mouP6"
      },
      "execution_count": null,
      "outputs": []
    },
    {
      "cell_type": "code",
      "source": [
        "interact(plot_sinogram, i=(0,len(sins)-1));"
      ],
      "metadata": {
        "colab": {
          "base_uri": "https://localhost:8080/",
          "height": 301,
          "referenced_widgets": [
            "3f5adc5b1c20422dabbe6737f929c69a",
            "f4e2abaa947e4e6598e3f9ef721900b2",
            "e2ee4cb134e349dfacfe63c974cc5acc",
            "80964f4f846e4476a9f644d449d83f5f",
            "6133721c3c774c71b9985486f41cc529",
            "0f2376c9e04140e0abdfdbb2cd5b4f10",
            "324df4bebcae4b808446309b65ecebd5"
          ]
        },
        "id": "a57JPT-Bo3gy",
        "outputId": "41cfb2e0-c6ec-44cb-bc18-38f5634989c6"
      },
      "execution_count": null,
      "outputs": [
        {
          "output_type": "display_data",
          "data": {
            "text/plain": [
              "interactive(children=(IntSlider(value=179, description='i', max=359), Output()), _dom_classes=('widget-interac…"
            ],
            "application/vnd.jupyter.widget-view+json": {
              "version_major": 2,
              "version_minor": 0,
              "model_id": "3f5adc5b1c20422dabbe6737f929c69a"
            }
          },
          "metadata": {}
        }
      ]
    },
    {
      "cell_type": "code",
      "source": [
        "def inverse_radon(image, num_of_lines, single_alpha_sinogram, alpha, detector_count, angle_range, radius, center):\n",
        "    emitters = emitter_coords(alpha, angle_range, detector_count, radius, center)\n",
        "    detectors = detector_coords(alpha, angle_range, detector_count, radius, center)\n",
        "    lines = draw_lines(emitters, detectors)\n",
        "    for i, line in enumerate(lines):\n",
        "        image[tuple(line)] += single_alpha_sinogram[i]\n",
        "        num_of_lines[tuple(line)] += 1\n",
        "\n",
        "def inverse_radon_all(shape, sinogram, angle_range, pad=True):\n",
        "    number_of_detectors, number_of_scans = sinogram.shape\n",
        "    sinogram = np.swapaxes(sinogram,0,1)\n",
        "    \n",
        "    result = np.zeros(shape)\n",
        "    result = image_pad(result)\n",
        "    num_of_lines = np.zeros(result.shape)\n",
        "    \n",
        "    center = np.floor(np.array(result.shape) / 2).astype(int)\n",
        "    width = height = result.shape[0]\n",
        "    radius = width // 2\n",
        "    alphas = np.linspace(0, 180, number_of_scans)\n",
        "    \n",
        "    for i, alpha in enumerate(alphas):\n",
        "        inverse_radon(result, num_of_lines, sinogram[i], alpha, number_of_detectors, angle_range, radius, center)\n",
        "        out.append(np.copy(result))\n",
        "        plt.imshow(result, cmap=plt.cm.Greys_r)\n",
        "        plt.show()\n",
        "        IPython.display.clear_output(wait=True)\n",
        "    \n",
        "    num_of_lines[num_of_lines == 0] = 1\n",
        "    result = rescale(result / num_of_lines)\n",
        "    out.append(np.copy(result))\n",
        "    result = unpad(result, *shape)\n",
        "    return result"
      ],
      "metadata": {
        "id": "zCRveAJrqkkE"
      },
      "execution_count": null,
      "outputs": []
    },
    {
      "cell_type": "code",
      "source": [
        "out = []\n",
        "output = inverse_radon_all(image.shape, sinogram, angle_range)"
      ],
      "metadata": {
        "colab": {
          "base_uri": "https://localhost:8080/",
          "height": 269
        },
        "id": "IU1Js18ar39f",
        "outputId": "bcd54540-953d-452f-f193-59b95fc26db4"
      },
      "execution_count": null,
      "outputs": [
        {
          "output_type": "display_data",
          "data": {
            "text/plain": [
              "<Figure size 432x288 with 1 Axes>"
            ],
            "image/png": "[encoded data removed]"
          },
          "metadata": {
            "needs_background": "light"
          }
        }
      ]
    },
    {
      "cell_type": "code",
      "source": [
        "def plot_inverse(i):\n",
        "  plt.imshow(out[i], cmap=\"gray\");"
      ],
      "metadata": {
        "id": "NPC9bV6vrXEJ"
      },
      "execution_count": null,
      "outputs": []
    },
    {
      "cell_type": "code",
      "source": [
        "interact(plot_inverse, i=(0,len(out)-1));"
      ],
      "metadata": {
        "colab": {
          "base_uri": "https://localhost:8080/",
          "height": 301,
          "referenced_widgets": [
            "ce3279c0a8d24ffc9712e2efa6f5d187",
            "e52b707f5bd942afba5fb90f490e205d",
            "d45e23ccac1b4509bd972b23cd5d692d",
            "3932c615808444ebacc354461ff389fb",
            "32dc0f10b3ea4de7819de9e08357b801",
            "6bd6f92c521449f39cfaaf35b002b6ad",
            "c40203bb6e6140e7ad7e523d4cc84691"
          ]
        },
        "id": "sGUM4WRErgu_",
        "outputId": "725670d1-e3f9-4913-db30-e43ea34e122c"
      },
      "execution_count": null,
      "outputs": [
        {
          "output_type": "display_data",
          "data": {
            "text/plain": [
              "interactive(children=(IntSlider(value=180, description='i', max=360), Output()), _dom_classes=('widget-interac…"
            ],
            "application/vnd.jupyter.widget-view+json": {
              "version_major": 2,
              "version_minor": 0,
              "model_id": "ce3279c0a8d24ffc9712e2efa6f5d187"
            }
          },
          "metadata": {}
        }
      ]
    },
    {
      "cell_type": "code",
      "source": [
        "def dicom_read(file):\n",
        "  dicom = pd.dcmread(file)\n",
        "  print(dicom)\n",
        "  plt.imshow(np.array(dicom.pixel_array).astype(np.uint8), cmap='gray');\n",
        "  #print(np.array(dicom.pixel_array))\n",
        "\n",
        "def dicom_write(file, data):\n",
        "  file_meta = FileMetaDataset()\n",
        "  file_meta.MediaStorageSOPClassUID = UID('1.2.840.10008.5.1.4.1.1.2')\n",
        "  file_meta.MediaStorageSOPInstanceUID = generate_uid()\n",
        "  file_meta.ImplementationClassUID = generate_uid()\n",
        "  file_meta.TransferSyntaxUID = UID('1.2.840.10008.1.2.1')\n",
        "\n",
        "  ds = FileDataset(file, {}, file_meta=file_meta, preamble=b'\\0'*128)\n",
        "  ds.PatientName = data['name']\n",
        "  ds.PatientID = data['id']\n",
        "  ds.is_little_endian = True\n",
        "  ds.is_implicit_VR = False\n",
        "  ds.StudyDate = data['date'] #.strftime('%Y%m%d')\n",
        "\n",
        "  ds.SeriesInstanceUID = generate_uid()\n",
        "  ds.StudyInstanceUID = generate_uid()\n",
        "  ds.FrameOfReferenceUID = generate_uid()\n",
        "\n",
        "  ds.BitsStored = 8\n",
        "  ds.BitsAllocated = 8\n",
        "  ds.SamplesPerPixel = 1\n",
        "  ds.HighBit = 7\n",
        "\n",
        "  ds.ImagesInAcquisition = '1'\n",
        "  ds.Rows = data['image'].shape[0]\n",
        "  ds.Columns = data['image'].shape[1]\n",
        "  ds.InstanceNumber = 1\n",
        "\n",
        "  ds.ImageType = r'ORIGINAL\\PRIMARY\\AXIAL'\n",
        "\n",
        "  ds.RescaleIntercept = '0'\n",
        "  ds.RescaleSlope = '1'\n",
        "  ds.PixelSpacing = r'1\\1'\n",
        "  ds.PhotometricInterpretation = 'MONOCHROME2'\n",
        "  ds.PixelRepresentation = 0\n",
        "\n",
        "  ds.ImageComments = data['comment']\n",
        "  ds.PixelData = (data['image']).astype(np.uint8).tobytes()\n",
        "\n",
        "  validate_file_meta(ds.file_meta, enforce_standard=True)\n",
        "\n",
        "  ds.save_as(file, write_like_original=False)\n",
        "  print('File created')\n",
        "  dicom_read(file)"
      ],
      "metadata": {
        "id": "NA39jCX4tqag"
      },
      "execution_count": null,
      "outputs": []
    },
    {
      "cell_type": "code",
      "source": [
        "#dicom_read('SADDLE_PE.dcm')\n",
        "\n",
        "patient_data = {\n",
        "    'name' : 'Example^Man',\n",
        "    'id' : '123',\n",
        "    'date' : '20220329',\n",
        "    'image' : image,\n",
        "    'comment' : 'Lorem Ipsum',\n",
        "}\n",
        "\n",
        "dicom_write('New.dcm', patient_data)"
      ],
      "metadata": {
        "colab": {
          "base_uri": "https://localhost:8080/",
          "height": 850
        },
        "id": "955MWZG8u546",
        "outputId": "feb1b839-4f70-42d3-c496-b7a57897b267"
      },
      "execution_count": null,
      "outputs": [
        {
          "output_type": "stream",
          "name": "stdout",
          "text": [
            "File created\n",
            "Dataset.file_meta -------------------------------\n",
            "(0002, 0000) File Meta Information Group Length  UL: 242\n",
            "(0002, 0001) File Meta Information Version       OB: b'\\x00\\x01'\n",
            "(0002, 0002) Media Storage SOP Class UID         UI: CT Image Storage\n",
            "(0002, 0003) Media Storage SOP Instance UID      UI: 1.2.826.0.1.3680043.8.498.10984493111002762330123500459554154384\n",
            "(0002, 0010) Transfer Syntax UID                 UI: Explicit VR Little Endian\n",
            "(0002, 0012) Implementation Class UID            UI: 1.2.826.0.1.3680043.8.498.73325842500155751202387849159715647482\n",
            "(0002, 0013) Implementation Version Name         SH: 'PYDICOM 2.3.0'\n",
            "-------------------------------------------------\n",
            "(0008, 0008) Image Type                          CS: ['ORIGINAL', 'PRIMARY', 'AXIAL']\n",
            "(0008, 0020) Study Date                          DA: '20220329'\n",
            "(0010, 0010) Patient's Name                      PN: 'Example^Man'\n",
            "(0010, 0020) Patient ID                          LO: '123'\n",
            "(0020, 000d) Study Instance UID                  UI: 1.2.826.0.1.3680043.8.498.12809550988449082866741478833031370454\n",
            "(0020, 000e) Series Instance UID                 UI: 1.2.826.0.1.3680043.8.498.58865215748758828356859735268918042981\n",
            "(0020, 0013) Instance Number                     IS: '1'\n",
            "(0020, 0052) Frame of Reference UID              UI: 1.2.826.0.1.3680043.8.498.11961701459369379211093783064384888882\n",
            "(0020, 1002) Images in Acquisition               IS: '1'\n",
            "(0020, 4000) Image Comments                      LT: 'Lorem Ipsum'\n",
            "(0028, 0002) Samples per Pixel                   US: 1\n",
            "(0028, 0004) Photometric Interpretation          CS: 'MONOCHROME2'\n",
            "(0028, 0010) Rows                                US: 384\n",
            "(0028, 0011) Columns                             US: 384\n",
            "(0028, 0030) Pixel Spacing                       DS: [1, 1]\n",
            "(0028, 0100) Bits Allocated                      US: 8\n",
            "(0028, 0101) Bits Stored                         US: 8\n",
            "(0028, 0102) High Bit                            US: 7\n",
            "(0028, 0103) Pixel Representation                US: 0\n",
            "(0028, 1052) Rescale Intercept                   DS: '0.0'\n",
            "(0028, 1053) Rescale Slope                       DS: '1.0'\n",
            "(7fe0, 0010) Pixel Data                          OB: Array of 147456 elements\n"
          ]
        },
        {
          "output_type": "display_data",
          "data": {
            "text/plain": [
              "<Figure size 432x288 with 1 Axes>"
            ],
            "image/png": "[encoded data removed]"
          },
          "metadata": {
            "needs_background": "light"
          }
        }
      ]
    }
  ]
}